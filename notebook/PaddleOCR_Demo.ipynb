{
 "cells": [
  {
   "cell_type": "markdown",
   "id": "3bc4b9b0",
   "metadata": {},
   "source": [
    "# PaddleOCR Text Extraction Demo 🧠\n",
    "\n",
    "This notebook demonstrates how to extract text and dimensions from scanned images using PaddleOCR.\n",
    "\n",
    "## Contents:\n",
    "- Overview of the Project\n",
    "- Image Preprocessing\n",
    "- OCR Extraction\n",
    "- Displaying Results with Bounding Boxes"
   ]
  },
  {
   "cell_type": "code",
   "execution_count": null,
   "id": "b245244b",
   "metadata": {},
   "outputs": [],
   "source": [
    "# Install necessary packages (uncomment and run if not already installed)\n",
    "# !pip install paddleocr\n",
    "# !pip install paddlepaddle\n",
    "# !pip install opencv-python\n",
    "# !pip install matplotlib\n",
    "# !pip install numpy"
   ]
  },
  {
   "cell_type": "code",
   "execution_count": null,
   "id": "f712d0c5",
   "metadata": {},
   "outputs": [],
   "source": [
    "import os\n",
    "import re\n",
    "import cv2\n",
    "import numpy as np\n",
    "from PIL import Image\n",
    "from paddleocr import PaddleOCR, draw_ocr\n",
    "import matplotlib.pyplot as plt"
   ]
  },
  {
   "cell_type": "code",
   "execution_count": null,
   "id": "69f06554",
   "metadata": {},
   "outputs": [],
   "source": [
    "# Initialize PaddleOCR\n",
    "ocr_model = PaddleOCR(use_angle_cls=True, lang='en')  # use_angle_cls=True helps with text rotation"
   ]
  },
  {
   "cell_type": "code",
   "execution_count": null,
   "id": "766f3013",
   "metadata": {},
   "outputs": [],
   "source": [
    "# Load and display an example image\n",
    "img_path = 'path_to_your_image.png'  # Replace with a demo image if possible\n",
    "image = Image.open(img_path)\n",
    "plt.imshow(image)\n",
    "plt.axis('off')\n",
    "plt.title(\"Input Image\")\n",
    "plt.show()"
   ]
  },
  {
   "cell_type": "code",
   "execution_count": null,
   "id": "78293778",
   "metadata": {},
   "outputs": [],
   "source": [
    "# Perform OCR\n",
    "result = ocr_model.ocr(img_path, cls=True)\n",
    "\n",
    "# Extract and display text\n",
    "for line in result[0]:\n",
    "    box, (text, confidence) = line\n",
    "    print(f\"{text} (Confidence: {confidence:.2f})\")"
   ]
  },
  {
   "cell_type": "code",
   "execution_count": null,
   "id": "7522e0bc",
   "metadata": {},
   "outputs": [],
   "source": [
    "# Draw results on image\n",
    "image = cv2.imread(img_path)\n",
    "boxes = [line[0] for line in result[0]]\n",
    "txts = [line[1][0] for line in result[0]]\n",
    "scores = [line[1][1] for line in result[0]]\n",
    "\n",
    "# Draw and show\n",
    "image_with_boxes = draw_ocr(image, boxes, txts, scores)\n",
    "plt.figure(figsize=(10, 10))\n",
    "plt.imshow(image_with_boxes)\n",
    "plt.axis('off')\n",
    "plt.title(\"OCR Output\")\n",
    "plt.show()"
   ]
  },
  {
   "cell_type": "code",
   "execution_count": null,
   "id": "599757ac",
   "metadata": {},
   "outputs": [],
   "source": [
    "## Summary\n",
    "\n",
    "This demo shows how to use PaddleOCR for text extraction from images. It highlights how OCR can be used in real-world scenarios such as invoice scanning, document parsing, and more.  \n",
    "Due to data privacy, we used synthetic or generic images in this demo.\n",
    "\n",
    "For the complete implementation, refer to the full script in the GitHub repo."
   ]
  }
 ],
 "metadata": {
  "kernelspec": {
   "display_name": "Python 3 (ipykernel)",
   "language": "python",
   "name": "python3"
  },
  "language_info": {
   "codemirror_mode": {
    "name": "ipython",
    "version": 3
   },
   "file_extension": ".py",
   "mimetype": "text/x-python",
   "name": "python",
   "nbconvert_exporter": "python",
   "pygments_lexer": "ipython3",
   "version": "3.9.13"
  }
 },
 "nbformat": 4,
 "nbformat_minor": 5
}
